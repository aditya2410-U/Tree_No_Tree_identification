{
 "cells": [
  {
   "cell_type": "code",
   "execution_count": 1,
   "id": "702553de",
   "metadata": {},
   "outputs": [],
   "source": [
    "from keras.models import Sequential\n",
    "from keras.layers import Conv2D\n",
    "from keras.layers import MaxPooling2D\n",
    "from keras.layers import Flatten\n",
    "from keras.layers import Dense\n",
    "from keras.layers import Dropout\n",
    "from keras.layers import Activation\n",
    "\n"
   ]
  },
  {
   "cell_type": "code",
   "execution_count": 2,
   "id": "c3f40771",
   "metadata": {},
   "outputs": [],
   "source": [
    "classifier = Sequential()\n",
    "\n",
    "classifier.add(Conv2D(32, (3, 3), input_shape = (200, 200, 3), activation = 'relu'))\n",
    "classifier.add(MaxPooling2D(pool_size = (2, 2)))\n",
    "\n",
    "classifier.add(Conv2D(32, (3, 3), activation = 'relu'))\n",
    "classifier.add(MaxPooling2D(pool_size=(2, 2)))\n",
    "\n",
    "classifier.add(Conv2D(64, (3, 3), activation = 'relu'))\n",
    "classifier.add(MaxPooling2D(pool_size=(2, 2)))\n",
    "\n",
    "classifier.add(Flatten())\n",
    "\n",
    "classifier.add(Dense(units = 64, activation = 'relu'))\n",
    "\n",
    "classifier.add(Dropout(0.5))\n",
    "\n",
    "# output layer\n",
    "classifier.add(Dense(1))\n",
    "classifier.add(Activation('sigmoid'))"
   ]
  },
  {
   "cell_type": "code",
   "execution_count": 3,
   "id": "bcb55716",
   "metadata": {},
   "outputs": [
    {
     "name": "stdout",
     "output_type": "stream",
     "text": [
      "Found 798 images belonging to 2 classes.\n",
      "Found 198 images belonging to 2 classes.\n"
     ]
    }
   ],
   "source": [
    "classifier.compile(optimizer = 'adam', loss = 'binary_crossentropy', metrics = ['accuracy'])\n",
    "\n",
    "\n",
    "from keras.preprocessing.image import ImageDataGenerator\n",
    "\n",
    "train_datagen = ImageDataGenerator(rescale = 1./255,\n",
    "                                   shear_range = 0.2,\n",
    "                                   zoom_range = 0.2,\n",
    "                                   horizontal_flip = True)\n",
    "\n",
    "test_datagen = ImageDataGenerator(rescale = 1./255)\n",
    "\n",
    "training_set = train_datagen.flow_from_directory('Dataset\\Train_set',\n",
    "                                                 target_size = (200, 200),\n",
    "                                                 batch_size = 32,\n",
    "                                                 class_mode = \"binary\",\n",
    "                                                 shuffle = True)\n",
    "\n",
    "test_set = test_datagen.flow_from_directory('Dataset\\Test_set',\n",
    "                                            target_size = (200, 200),\n",
    "                                            batch_size = 32,\n",
    "                                            class_mode = \"binary\",\n",
    "                                            shuffle = True)"
   ]
  },
  {
   "cell_type": "code",
   "execution_count": 4,
   "id": "0c099977",
   "metadata": {},
   "outputs": [
    {
     "name": "stderr",
     "output_type": "stream",
     "text": [
      "C:\\Users\\TOSHIBA\\AppData\\Local\\Temp/ipykernel_10144/1174876077.py:1: UserWarning: `Model.fit_generator` is deprecated and will be removed in a future version. Please use `Model.fit`, which supports generators.\n",
      "  history = classifier.fit_generator(training_set,\n"
     ]
    },
    {
     "name": "stdout",
     "output_type": "stream",
     "text": [
      "Epoch 1/20\n",
      "25/25 [==============================] - 91s 4s/step - loss: 0.5064 - accuracy: 0.7556 - val_loss: 0.3057 - val_accuracy: 0.9444\n",
      "Epoch 2/20\n",
      "25/25 [==============================] - 89s 4s/step - loss: 0.2224 - accuracy: 0.9160 - val_loss: 0.3613 - val_accuracy: 0.9444\n",
      "Epoch 3/20\n",
      "25/25 [==============================] - 90s 4s/step - loss: 0.1173 - accuracy: 0.9574 - val_loss: 0.1400 - val_accuracy: 0.9495\n",
      "Epoch 4/20\n",
      "25/25 [==============================] - 88s 4s/step - loss: 0.0718 - accuracy: 0.9787 - val_loss: 0.2272 - val_accuracy: 0.9596\n",
      "Epoch 5/20\n",
      "25/25 [==============================] - 78s 3s/step - loss: 0.0607 - accuracy: 0.9850 - val_loss: 0.2832 - val_accuracy: 0.9545\n",
      "Epoch 6/20\n",
      "25/25 [==============================] - 79s 3s/step - loss: 0.0508 - accuracy: 0.9799 - val_loss: 0.3632 - val_accuracy: 0.9343\n",
      "Epoch 7/20\n",
      "25/25 [==============================] - 80s 3s/step - loss: 0.0307 - accuracy: 0.9900 - val_loss: 0.2875 - val_accuracy: 0.9343\n",
      "Epoch 8/20\n",
      "25/25 [==============================] - 78s 3s/step - loss: 0.0291 - accuracy: 0.9925 - val_loss: 0.2454 - val_accuracy: 0.9343\n",
      "Epoch 9/20\n",
      "25/25 [==============================] - 80s 3s/step - loss: 0.0359 - accuracy: 0.9912 - val_loss: 0.2957 - val_accuracy: 0.9444\n",
      "Epoch 10/20\n",
      "25/25 [==============================] - 77s 3s/step - loss: 0.0152 - accuracy: 0.9962 - val_loss: 0.3939 - val_accuracy: 0.9343\n",
      "Epoch 11/20\n",
      "25/25 [==============================] - 77s 3s/step - loss: 0.0479 - accuracy: 0.9862 - val_loss: 0.2720 - val_accuracy: 0.9394\n",
      "Epoch 12/20\n",
      "25/25 [==============================] - 79s 3s/step - loss: 0.0300 - accuracy: 0.9900 - val_loss: 0.1657 - val_accuracy: 0.9495\n",
      "Epoch 13/20\n",
      "25/25 [==============================] - 93s 4s/step - loss: 0.0233 - accuracy: 0.9925 - val_loss: 0.4691 - val_accuracy: 0.9192\n",
      "Epoch 14/20\n",
      "25/25 [==============================] - 91s 4s/step - loss: 0.0236 - accuracy: 0.9987 - val_loss: 0.3613 - val_accuracy: 0.9343\n",
      "Epoch 15/20\n",
      "25/25 [==============================] - 97s 4s/step - loss: 0.0217 - accuracy: 0.9937 - val_loss: 0.3990 - val_accuracy: 0.9343\n",
      "Epoch 16/20\n",
      "25/25 [==============================] - 79s 3s/step - loss: 0.0080 - accuracy: 0.9975 - val_loss: 0.4591 - val_accuracy: 0.9293\n",
      "Epoch 17/20\n",
      "25/25 [==============================] - 78s 3s/step - loss: 0.0108 - accuracy: 0.9975 - val_loss: 0.4548 - val_accuracy: 0.9444\n",
      "Epoch 18/20\n",
      "25/25 [==============================] - 79s 3s/step - loss: 0.0143 - accuracy: 0.9937 - val_loss: 0.3242 - val_accuracy: 0.9444\n",
      "Epoch 19/20\n",
      "25/25 [==============================] - 79s 3s/step - loss: 0.0050 - accuracy: 0.9987 - val_loss: 0.3741 - val_accuracy: 0.9444\n",
      "Epoch 20/20\n",
      "25/25 [==============================] - 77s 3s/step - loss: 0.0232 - accuracy: 0.9912 - val_loss: 0.7614 - val_accuracy: 0.9141\n"
     ]
    }
   ],
   "source": [
    "history = classifier.fit_generator(training_set,\n",
    "                         \n",
    "                         epochs = 20,\n",
    "                         validation_data = test_set)"
   ]
  },
  {
   "cell_type": "code",
   "execution_count": 6,
   "id": "0292da6f",
   "metadata": {},
   "outputs": [
    {
     "name": "stdout",
     "output_type": "stream",
     "text": [
      "This is not tree\n"
     ]
    }
   ],
   "source": [
    "from keras.preprocessing import image\n",
    "import numpy as np \n",
    "\n",
    "test_image = image.load_img('Dataset\\\\Predict\\\\Not_tree.png', target_size = (200, 200))\n",
    "#test_image.show()\n",
    "test_image = image.img_to_array(test_image)\n",
    "test_image = np.expand_dims(test_image, axis = 0)\n",
    "result = classifier.predict(test_image)\n",
    "training_set.class_indices\n",
    "if result[0][0] == 1:\n",
    "    prediction = 'This is a tree'\n",
    "else:\n",
    "    prediction = 'This is not tree'\n",
    "\n",
    "print(prediction)"
   ]
  },
  {
   "cell_type": "code",
   "execution_count": null,
   "id": "408c081b",
   "metadata": {},
   "outputs": [],
   "source": []
  }
 ],
 "metadata": {
  "kernelspec": {
   "display_name": "Python 3 (ipykernel)",
   "language": "python",
   "name": "python3"
  },
  "language_info": {
   "codemirror_mode": {
    "name": "ipython",
    "version": 3
   },
   "file_extension": ".py",
   "mimetype": "text/x-python",
   "name": "python",
   "nbconvert_exporter": "python",
   "pygments_lexer": "ipython3",
   "version": "3.9.7"
  }
 },
 "nbformat": 4,
 "nbformat_minor": 5
}
